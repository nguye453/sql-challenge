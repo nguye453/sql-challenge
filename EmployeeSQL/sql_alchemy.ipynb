{
 "cells": [
  {
   "cell_type": "markdown",
   "metadata": {},
   "source": [
    "# Bonus\n",
    "#### As you examine the data, you are overcome with a creeping suspicion that the dataset is fake. You surmise that your boss handed you spurious data in order to test the data engineering skills of a new employee. To confirm your hunch, you decide to take the following steps to generate a visualization of the data, with which you will confront your boss:"
   ]
  },
  {
   "cell_type": "code",
   "execution_count": 2,
   "metadata": {},
   "outputs": [],
   "source": [
    "from sqlalchemy import create_engine\n",
    "import pandas as pd\n",
    "import psycopg2\n",
    "import config\n",
    "from matplotlib import pyplot as plt"
   ]
  },
  {
   "cell_type": "code",
   "execution_count": 3,
   "metadata": {},
   "outputs": [],
   "source": [
    "# Import the SQL database into Pandas.\n",
    "password = config.password\n",
    "conn = psycopg2.connect(f'dbname=employee_db port=5432 user=postgres password={password}')"
   ]
  },
  {
   "cell_type": "code",
   "execution_count": 4,
   "metadata": {},
   "outputs": [
    {
     "data": {
      "text/plain": [
       "Text(0, 0.5, 'Number of Employees')"
      ]
     },
     "execution_count": 4,
     "metadata": {},
     "output_type": "execute_result"
    },
    {
     "data": {
      "image/png": "[encoded data removed]",
      "text/plain": [
       "<Figure size 432x288 with 1 Axes>"
      ]
     },
     "metadata": {
      "needs_background": "light"
     },
     "output_type": "display_data"
    }
   ],
   "source": [
    "# Create a histogram to visualize the most common salary ranges for employees.\n",
    "salaries = pd.read_sql('SELECT * FROM salaries', conn)\n",
    "plt.hist(salaries['salary'], label='Salary Range')\n",
    "plt.title('Most Common Salary Ranges for Employees')\n",
    "plt.xlabel('Salary Range')\n",
    "plt.ylabel('Number of Employees')"
   ]
  },
  {
   "cell_type": "code",
   "execution_count": 32,
   "metadata": {},
   "outputs": [
    {
     "data": {
      "text/plain": [
       "Text(0.5, 1.0, 'Avg Salary by Title')"
      ]
     },
     "execution_count": 32,
     "metadata": {},
     "output_type": "execute_result"
    },
    {
     "data": {
      "image/png": "[encoded data removed]",
      "text/plain": [
       "<Figure size 432x288 with 1 Axes>"
      ]
     },
     "metadata": {
      "needs_background": "light"
     },
     "output_type": "display_data"
    }
   ],
   "source": [
    "# Create a bar chart of average salary by title.\n",
    "salaries_titles = pd.read_sql('SELECT t.title AS \"Title\", ROUND(AVG(s.salary), 2) AS \"Avg Salary\"\\\n",
    "                                FROM employees AS e\\\n",
    "                                JOIN salaries AS s\\\n",
    "                                ON e.emp_no = s.emp_no\\\n",
    "                                JOIN titles AS t\\\n",
    "                                ON e.emp_title = t.title_id\\\n",
    "                                GROUP BY t.title', conn)\n",
    "\n",
    "plt.bar(salaries_titles['Title'], salaries_titles['Avg Salary'])\n",
    "plt.xticks(rotation = 'vertical')\n",
    "plt.xlabel('Title')\n",
    "plt.ylabel('Avg Salary')\n",
    "plt.title('Avg Salary by Title')"
   ]
  },
  {
   "cell_type": "markdown",
   "metadata": {},
   "source": [
    "### Evidence in hand, you march into your boss's office and present the visualization. With a sly grin, your boss thanks you for your work. On your way out of the office, you hear the words, \"Search your ID number.\" You look down at your badge to see that your employee ID number is 499942."
   ]
  },
  {
   "cell_type": "code",
   "execution_count": 44,
   "metadata": {},
   "outputs": [
    {
     "data": {
      "text/html": [
       "<div>\n",
       "<style scoped>\n",
       "    .dataframe tbody tr th:only-of-type {\n",
       "        vertical-align: middle;\n",
       "    }\n",
       "\n",
       "    .dataframe tbody tr th {\n",
       "        vertical-align: top;\n",
       "    }\n",
       "\n",
       "    .dataframe thead th {\n",
       "        text-align: right;\n",
       "    }\n",
       "</style>\n",
       "<table border=\"1\" class=\"dataframe\">\n",
       "  <thead>\n",
       "    <tr style=\"text-align: right;\">\n",
       "      <th></th>\n",
       "      <th>My ID</th>\n",
       "      <th>First Name</th>\n",
       "      <th>Last Name</th>\n",
       "      <th>Title</th>\n",
       "      <th>Salary</th>\n",
       "    </tr>\n",
       "  </thead>\n",
       "  <tbody>\n",
       "    <tr>\n",
       "      <th>0</th>\n",
       "      <td>499942</td>\n",
       "      <td>April</td>\n",
       "      <td>Foolsday</td>\n",
       "      <td>Technique Leader</td>\n",
       "      <td>40000</td>\n",
       "    </tr>\n",
       "  </tbody>\n",
       "</table>\n",
       "</div>"
      ],
      "text/plain": [
       "    My ID First Name Last Name             Title  Salary\n",
       "0  499942      April  Foolsday  Technique Leader   40000"
      ]
     },
     "execution_count": 44,
     "metadata": {},
     "output_type": "execute_result"
    }
   ],
   "source": [
    "my_salary = pd.read_sql('SELECT s.emp_no AS \"My ID\", e.first_name AS \"First Name\", e.last_name AS \"Last Name\", t.title AS \"Title\", s.salary AS \"Salary\"\\\n",
    "                        FROM salaries AS s\\\n",
    "                        JOIN employees AS e\\\n",
    "                        ON e.emp_no = s.emp_no\\\n",
    "                        JOIN titles AS t\\\n",
    "                        ON t.title_id = e.emp_title\\\n",
    "                        WHERE e.emp_no = 499942', conn)\n",
    "\n",
    "my_salary"
   ]
  },
  {
   "cell_type": "markdown",
   "metadata": {},
   "source": [
    "### So boss was playing a prank on me. Changed my name to April Follsday.\n",
    "### But also I'm paid lower than average for my title, if that part of the data is true.\n",
    "### So quit, who's laughing now?"
   ]
  }
 ],
 "metadata": {
  "kernelspec": {
   "display_name": "Python [conda env:PythonData]",
   "language": "python",
   "name": "conda-env-PythonData-py"
  },
  "language_info": {
   "codemirror_mode": {
    "name": "ipython",
    "version": 3
   },
   "file_extension": ".py",
   "mimetype": "text/x-python",
   "name": "python",
   "nbconvert_exporter": "python",
   "pygments_lexer": "ipython3",
   "version": "3.6.10"
  }
 },
 "nbformat": 4,
 "nbformat_minor": 4
}
